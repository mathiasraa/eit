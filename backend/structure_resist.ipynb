{
 "cells": [
  {
   "cell_type": "code",
   "execution_count": 10,
   "metadata": {},
   "outputs": [
    {
     "name": "stdout",
     "output_type": "stream",
     "text": [
      "Path to dataset files: /home/chaotic/.cache/kagglehub/datasets/arashnic/earthquake-magnitude-damage-and-impact/versions/6\n",
      "['csv_building_damage_assessment.csv', 'csv_building_ownership_and_use.csv', 'csv_building_structure.csv', 'csv_household_demographics.csv', 'csv_household_earthquake_impact.csv', 'csv_household_resources.csv', 'csv_individual_demographics.csv', 'mapping.csv', 'ward_vdcmun_district_name_mapping.csv']\n"
     ]
    }
   ],
   "source": [
    "import pandas as pd\n",
    "import numpy as np\n",
    "import matplotlib.pyplot as plt\n",
    "import seaborn as sns\n",
    "import plotnine as p9\n",
    "import os\n",
    "\n",
    "from lib.lib import Import_data\n",
    "\n",
    "path = Import_data()\n",
    "# get all files in the directory\n",
    "files = os.listdir(path)\n",
    "print(files)"
   ]
  },
  {
   "cell_type": "code",
   "execution_count": 11,
   "metadata": {},
   "outputs": [],
   "source": [
    "building_types = {\n",
    "    \"Traditional Bamboo\": {\n",
    "        \"description\": \"Simple bamboo structure with timber framing\",\n",
    "        \"foundation_type\": \"Bamboo/Timber\",\n",
    "        \"roof_type\": \"Bamboo/Timber-Light roof\",\n",
    "        \"ground_floor_type\": \"Mud\",\n",
    "        \"other_floor_type\": \"Not applicable\",\n",
    "        \"has_superstructure_timber\": 1,\n",
    "        \"has_superstructure_bamboo\": 1,\n",
    "        \"base_cost\": 909,  # 1 LAKH NPR\n",
    "        \"src\": \"/building_types/bamboo.png\",\n",
    "    },\n",
    "    \"Basic Stone/Brick\": {\n",
    "        \"description\": \"Stone/brick home with light roof and mud mortar\",\n",
    "        \"foundation_type\": \"Mud mortar-Stone/Brick\",\n",
    "        \"roof_type\": \"Bamboo/Timber-Light roof\",\n",
    "        \"ground_floor_type\": \"Mud\",\n",
    "        \"other_floor_type\": \"TImber/Bamboo-Mud\",\n",
    "        \"has_superstructure_mud_mortar_stone\": 1,\n",
    "        \"base_cost\": 1455,  # NPR 100,000 to NPR 500,000\n",
    "        \"src\": \"/building_types/brick_mud.png\",\n",
    "    },\n",
    "    \"Improved Stone/Brick\": {\n",
    "        \"description\": \"Stone/brick home with heavy timber roof for better stability\",\n",
    "        \"foundation_type\": \"Mud mortar-Stone/Brick\",\n",
    "        \"roof_type\": \"Bamboo/Timber-Heavy roof\",\n",
    "        \"ground_floor_type\": \"Brick/Stone\",\n",
    "        \"other_floor_type\": \"TImber/Bamboo-Mud\",\n",
    "        \"has_superstructure_mud_mortar_stone\": 1,\n",
    "        \"base_cost\": 3637,\n",
    "        \"src\": \"/building_types/improved_brick.png\",\n",
    "    },\n",
    "    \"Modern Concrete\": {\n",
    "        \"description\": \"Reinforced concrete structure with modern materials\",\n",
    "        \"foundation_type\": \"RC\",\n",
    "        \"roof_type\": \"RCC/RB/RBC\",\n",
    "        \"ground_floor_type\": \"RC\",\n",
    "        \"other_floor_type\": \"RCC/RB/RBC\",\n",
    "        \"has_superstructure_cement_mortar_brick\": 1,\n",
    "        \"base_cost\": 7275,\n",
    "        \"src\": \"/building_types/modern_concrete.png\",\n",
    "    },\n",
    "}\n"
   ]
  },
  {
   "cell_type": "code",
   "execution_count": 12,
   "metadata": {},
   "outputs": [],
   "source": [
    "building_structure = pd.read_csv(path + \"/csv_building_structure.csv\")"
   ]
  },
  {
   "cell_type": "code",
   "execution_count": 15,
   "metadata": {},
   "outputs": [
    {
     "name": "stdout",
     "output_type": "stream",
     "text": [
      "Building Type:  Traditional Bamboo\n",
      "Damage Grade:  2.4688940092165894\n",
      "Building Type:  Basic Stone/Brick\n",
      "Damage Grade:  4.005705185903206\n",
      "Building Type:  Improved Stone/Brick\n",
      "Damage Grade:  4.031253052055865\n",
      "Building Type:  Modern Concrete\n",
      "Damage Grade:  1.6486562942008485\n"
     ]
    }
   ],
   "source": [
    "\n",
    "\n",
    "def get_buildings(building):\n",
    "    foundation_type = building_structure[\"foundation_type\"] == building[\"foundation_type\"]\n",
    "    roof_type = building_structure[\"roof_type\"] == building[\"roof_type\"]\n",
    "    ground_floor_type = building_structure[\"ground_floor_type\"] == building[\"ground_floor_type\"]\n",
    "    other_floor_type = building_structure[\"other_floor_type\"] == building[\"other_floor_type\"]\n",
    "    has_superstructure_mud_mortar_stone = building_structure[\"has_superstructure_mud_mortar_stone\"] == building.get(\"has_superstructure_mud_mortar_stone\", 0)\n",
    "    has_superstructure_timber = building_structure[\"has_superstructure_timber\"] == building.get(\"has_superstructure_timber\", 0)\n",
    "    has_superstructure_bamboo = building_structure[\"has_superstructure_bamboo\"] == building.get(\"has_superstructure_bamboo\", 0)\n",
    "    has_superstructure_cement_mortar_brick = building_structure[\"has_superstructure_cement_mortar_brick\"] == building.get(\"has_superstructure_cement_mortar_brick\", 0)\n",
    "    df = building_structure[\n",
    "        foundation_type\n",
    "        & roof_type\n",
    "        & ground_floor_type\n",
    "        & other_floor_type\n",
    "        & has_superstructure_mud_mortar_stone\n",
    "        & has_superstructure_timber\n",
    "        & has_superstructure_bamboo\n",
    "        & has_superstructure_cement_mortar_brick\n",
    "    ]\n",
    "    return df\n",
    "\n",
    "\n",
    "def calculate_damage_grade(building_structure, text):\n",
    "    \n",
    "    # Calculate damage grade\n",
    "    damage_grades = building_structure[\"damage_grade\"].copy()\n",
    "# Weighted average by count damage grade\n",
    "    damage_grade = damage_grades.value_counts().sort_index()\n",
    "    damage_grade.index = np.array([1, 2, 3, 4, 5])\n",
    "    damage_grade = damage_grade / damage_grade.sum()\n",
    "    damage_grade = damage_grade * damage_grade.index\n",
    "    damage_grade = damage_grade.sum()\n",
    "    print(\"Building Type: \", text)\n",
    "    print(\"Damage Grade: \", damage_grade)\n",
    "\n",
    "for building_name, building in building_types.items():\n",
    "    building = building_types[building_name]\n",
    "    structures = get_buildings(building)\n",
    "    calculate_damage_grade(structures, building_name)"
   ]
  },
  {
   "cell_type": "code",
   "execution_count": null,
   "metadata": {},
   "outputs": [],
   "source": [
    "\n",
    "\n",
    "\n"
   ]
  },
  {
   "cell_type": "code",
   "execution_count": 14,
   "metadata": {},
   "outputs": [
    {
     "ename": "NameError",
     "evalue": "name 'damage_grades' is not defined",
     "output_type": "error",
     "traceback": [
      "\u001b[31m---------------------------------------------------------------------------\u001b[39m",
      "\u001b[31mNameError\u001b[39m                                 Traceback (most recent call last)",
      "\u001b[36mCell\u001b[39m\u001b[36m \u001b[39m\u001b[32mIn[14]\u001b[39m\u001b[32m, line 1\u001b[39m\n\u001b[32m----> \u001b[39m\u001b[32m1\u001b[39m \u001b[43mdamage_grades\u001b[49m.value_counts()\n",
      "\u001b[31mNameError\u001b[39m: name 'damage_grades' is not defined"
     ]
    }
   ],
   "source": [
    "damage_grades.value_counts()"
   ]
  }
 ],
 "metadata": {
  "kernelspec": {
   "display_name": ".venv",
   "language": "python",
   "name": "python3"
  },
  "language_info": {
   "codemirror_mode": {
    "name": "ipython",
    "version": 3
   },
   "file_extension": ".py",
   "mimetype": "text/x-python",
   "name": "python",
   "nbconvert_exporter": "python",
   "pygments_lexer": "ipython3",
   "version": "3.13.2"
  }
 },
 "nbformat": 4,
 "nbformat_minor": 2
}
