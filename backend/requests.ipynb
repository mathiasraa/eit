{
 "cells": [
  {
   "cell_type": "code",
   "execution_count": 16,
   "metadata": {},
   "outputs": [
    {
     "name": "stdout",
     "output_type": "stream",
     "text": [
      "Status Code: 200\n",
      "Response JSON:\n",
      "{'prediction': 21.9}\n"
     ]
    }
   ],
   "source": [
    "import requests\n",
    "\n",
    "# URL for the API endpoint\n",
    "url = 'http://localhost:5000/api/predict'\n",
    "\n",
    "# Sample JSON payload that must include all required keys\n",
    "payload = {\n",
    "    \"count_floors_pre_eq\": 2,\n",
    "    \"age_building\": 20,\n",
    "    \"has_superstructure_adobe_mud\": 0,\n",
    "    \"has_superstructure_mud_mortar_stone\": 0,\n",
    "    \"has_superstructure_stone_flag\": 0,\n",
    "    \"has_superstructure_cement_mortar_stone\": 0,\n",
    "    \"has_superstructure_mud_mortar_brick\": 1,\n",
    "    \"has_superstructure_cement_mortar_brick\": 0,\n",
    "    \"has_superstructure_timber\": 0,\n",
    "    \"has_superstructure_bamboo\": 0,\n",
    "    \"has_superstructure_rc_non_engineered\": 0,\n",
    "    \"has_superstructure_rc_engineered\": 0,\n",
    "    \"has_superstructure_other\": 0,\n",
    "    \"has_geotechnical_risk_land_settlement\": 0,\n",
    "    \"has_geotechnical_risk_fault_crack\": 0,\n",
    "    \"has_geotechnical_risk_liquefaction\": 0,\n",
    "    \"has_geotechnical_risk_rock_fall\": 0,\n",
    "    \"has_geotechnical_risk_flood\": 0,\n",
    "    \"has_geotechnical_risk_other\": 0,\n",
    "    \"height_plinth_ratio\": 1.2,\n",
    "    \"foundation_type_Bamboo/Timber\": 0,\n",
    "    \"foundation_type_Cement-Stone/Brick\": 0,\n",
    "    \"foundation_type_Mud mortar-Stone/Brick\": 1,\n",
    "    \"foundation_type_Other\": 0,\n",
    "    \"foundation_type_RC\": 0,\n",
    "    \"roof_type_Bamboo/Timber\": 1,\n",
    "    \"roof_type_RCC/RB/RBC\": 0,\n",
    "    \"ground_floor_type_Brick/Stone\": 0,\n",
    "    \"ground_floor_type_Mud\": 1,\n",
    "    \"ground_floor_type_Other\": 0,\n",
    "    \"ground_floor_type_RC\": 0,\n",
    "    \"ground_floor_type_Timber\": 0,\n",
    "    \"other_floor_type_Not applicable\": 1,\n",
    "    \"other_floor_type_RCC/RB/RBC\": 0,\n",
    "    \"other_floor_type_TImber/Bamboo-Mud\": 0,\n",
    "    \"other_floor_type_Timber-Planck\": 0,\n",
    "    \"position_Attached-1 side\": 1,\n",
    "    \"position_Attached-2 side\": 0,\n",
    "    \"position_Attached-3 side\": 0,\n",
    "    \"position_Not attached\": 0\n",
    "}\n",
    "\n",
    "response = requests.post(url, json=payload)\n",
    "\n",
    "# Print response status and data\n",
    "print(f\"Status Code: {response.status_code}\")\n",
    "print(\"Response JSON:\")\n",
    "print(response.json())\n"
   ]
  },
  {
   "cell_type": "code",
   "execution_count": 17,
   "metadata": {},
   "outputs": [],
   "source": [
    "# import this joblib.dump(examples, 'examples.pkl')\n",
    "import joblib\n",
    "bundle = joblib.load('examples.pkl')\n",
    "examples = bundle['examples']\n",
    "keys = bundle['keys']\n"
   ]
  },
  {
   "cell_type": "code",
   "execution_count": 18,
   "metadata": {},
   "outputs": [
    {
     "data": {
      "text/plain": [
       "{'y_1': np.int64(1),\n",
       " 'y_0': np.int64(0),\n",
       " 'y_2': np.int64(2),\n",
       " 'x_1': array([2, 17, 0, 1, 0, 0, 0, 0, 1, 0, 0, 0, 0, 0, 0, 0, 0, 0, 0,\n",
       "        0.06060606060606061, False, False, True, False, False, True, False,\n",
       "        True, False, False, False, False, False, False, True, False, False,\n",
       "        False, False, True], dtype=object),\n",
       " 'x_0': array([2, 3, 0, 0, 0, 0, 0, 0, 0, 0, 1, 0, 0, 0, 0, 0, 0, 0, 0,\n",
       "        0.020361990950226245, False, False, False, False, True, False,\n",
       "        True, False, False, False, True, False, False, True, False, False,\n",
       "        True, False, False, False], dtype=object),\n",
       " 'x_2': array([3, 32, 0, 1, 0, 0, 0, 0, 0, 0, 0, 0, 0, 0, 1, 0, 0, 0, 0,\n",
       "        0.06862745098039216, False, False, True, False, False, True, False,\n",
       "        False, True, False, False, False, False, False, True, False, False,\n",
       "        False, False, True], dtype=object)}"
      ]
     },
     "execution_count": 18,
     "metadata": {},
     "output_type": "execute_result"
    }
   ],
   "source": [
    "examples"
   ]
  },
  {
   "cell_type": "code",
   "execution_count": 19,
   "metadata": {},
   "outputs": [
    {
     "data": {
      "text/plain": [
       "Index(['count_floors_pre_eq', 'age_building', 'has_superstructure_adobe_mud',\n",
       "       'has_superstructure_mud_mortar_stone', 'has_superstructure_stone_flag',\n",
       "       'has_superstructure_cement_mortar_stone',\n",
       "       'has_superstructure_mud_mortar_brick',\n",
       "       'has_superstructure_cement_mortar_brick', 'has_superstructure_timber',\n",
       "       'has_superstructure_bamboo', 'has_superstructure_rc_non_engineered',\n",
       "       'has_superstructure_rc_engineered', 'has_superstructure_other',\n",
       "       'has_geotechnical_risk_land_settlement',\n",
       "       'has_geotechnical_risk_fault_crack',\n",
       "       'has_geotechnical_risk_liquefaction', 'has_geotechnical_risk_rock_fall',\n",
       "       'has_geotechnical_risk_flood', 'has_geotechnical_risk_other',\n",
       "       'height_plinth_ratio', 'foundation_type_Bamboo/Timber',\n",
       "       'foundation_type_Cement-Stone/Brick',\n",
       "       'foundation_type_Mud mortar-Stone/Brick', 'foundation_type_Other',\n",
       "       'foundation_type_RC', 'roof_type_Bamboo/Timber', 'roof_type_RCC/RB/RBC',\n",
       "       'ground_floor_type_Brick/Stone', 'ground_floor_type_Mud',\n",
       "       'ground_floor_type_Other', 'ground_floor_type_RC',\n",
       "       'ground_floor_type_Timber', 'other_floor_type_Not applicable',\n",
       "       'other_floor_type_RCC/RB/RBC', 'other_floor_type_TImber/Bamboo-Mud',\n",
       "       'other_floor_type_Timber-Planck', 'position_Attached-1 side',\n",
       "       'position_Attached-2 side', 'position_Attached-3 side',\n",
       "       'position_Not attached'],\n",
       "      dtype='object')"
      ]
     },
     "execution_count": 19,
     "metadata": {},
     "output_type": "execute_result"
    }
   ],
   "source": [
    "keys"
   ]
  },
  {
   "cell_type": "code",
   "execution_count": 21,
   "metadata": {},
   "outputs": [
    {
     "name": "stdout",
     "output_type": "stream",
     "text": [
      "Sending request for x_0 with payload:\n",
      "{'count_floors_pre_eq': 2, 'age_building': 3, 'has_superstructure_adobe_mud': 0, 'has_superstructure_mud_mortar_stone': 0, 'has_superstructure_stone_flag': 0, 'has_superstructure_cement_mortar_stone': 0, 'has_superstructure_mud_mortar_brick': 0, 'has_superstructure_cement_mortar_brick': 0, 'has_superstructure_timber': 0, 'has_superstructure_bamboo': 0, 'has_superstructure_rc_non_engineered': 1, 'has_superstructure_rc_engineered': 0, 'has_superstructure_other': 0, 'has_geotechnical_risk_land_settlement': 0, 'has_geotechnical_risk_fault_crack': 0, 'has_geotechnical_risk_liquefaction': 0, 'has_geotechnical_risk_rock_fall': 0, 'has_geotechnical_risk_flood': 0, 'has_geotechnical_risk_other': 0, 'height_plinth_ratio': 0.020361990950226245, 'foundation_type_Bamboo/Timber': False, 'foundation_type_Cement-Stone/Brick': False, 'foundation_type_Mud mortar-Stone/Brick': False, 'foundation_type_Other': False, 'foundation_type_RC': True, 'roof_type_Bamboo/Timber': False, 'roof_type_RCC/RB/RBC': True, 'ground_floor_type_Brick/Stone': False, 'ground_floor_type_Mud': False, 'ground_floor_type_Other': False, 'ground_floor_type_RC': True, 'ground_floor_type_Timber': False, 'other_floor_type_Not applicable': False, 'other_floor_type_RCC/RB/RBC': True, 'other_floor_type_TImber/Bamboo-Mud': False, 'other_floor_type_Timber-Planck': False, 'position_Attached-1 side': True, 'position_Attached-2 side': False, 'position_Attached-3 side': False, 'position_Not attached': False}\n",
      "Status Code: 200\n",
      "Response JSON:\n",
      "{'feature_importance': {'age_building': -0.09852407867386763, 'count_floors_pre_eq': -0.020906573038175134, 'foundation_type_Bamboo/Timber': 0.0032721945572219066, 'foundation_type_Cement-Stone/Brick': 0.0018929470093595254, 'foundation_type_Mud mortar-Stone/Brick': -0.016396731099945706, 'foundation_type_Other': -0.000341846599763473, 'foundation_type_RC': -0.07402424704903701, 'ground_floor_type_Brick/Stone': -0.002745316251026021, 'ground_floor_type_Mud': -0.013047327367510997, 'ground_floor_type_Other': -8.716537706753499e-05, 'ground_floor_type_RC': -0.04692650658729487, 'ground_floor_type_Timber': 4.042778384987499e-05, 'has_geotechnical_risk_fault_crack': -0.012961304908239627, 'has_geotechnical_risk_flood': -0.0024974819783084717, 'has_geotechnical_risk_land_settlement': -0.0062455030222151355, 'has_geotechnical_risk_liquefaction': -6.021456540644797e-05, 'has_geotechnical_risk_other': 2.5038558621597886e-05, 'has_geotechnical_risk_rock_fall': -0.0073062073678396644, 'has_superstructure_adobe_mud': -0.02008321982550318, 'has_superstructure_bamboo': -0.002696712882969589, 'has_superstructure_cement_mortar_brick': 0.00041473152614176053, 'has_superstructure_cement_mortar_stone': -0.006917729999197155, 'has_superstructure_mud_mortar_brick': -0.005540559298932006, 'has_superstructure_mud_mortar_stone': -0.43956922649352853, 'has_superstructure_other': 0.000495702652160325, 'has_superstructure_rc_engineered': 0.0311698461812778, 'has_superstructure_rc_non_engineered': -0.06438154480614028, 'has_superstructure_stone_flag': -0.032356730745484216, 'has_superstructure_timber': 0.002677611663702216, 'height_plinth_ratio': -0.049934541102997214, 'other_floor_type_Not applicable': 0.004393111215399831, 'other_floor_type_RCC/RB/RBC': -0.013043779267549847, 'other_floor_type_TImber/Bamboo-Mud': -0.026336772866604193, 'other_floor_type_Timber-Planck': -0.006392616804521141, 'position_Attached-1 side': -0.026332345864924916, 'position_Attached-2 side': -0.002133260057201423, 'position_Attached-3 side': 0.0002029348023761021, 'position_Not attached': -0.031283853079031275, 'roof_type_Bamboo/Timber': -0.023872579138962395, 'roof_type_RCC/RB/RBC': -0.02081868867269331}, 'prediction': 2.9}\n",
      "--------------------------------------------------\n",
      "Sending request for x_1 with payload:\n",
      "{'count_floors_pre_eq': 2, 'age_building': 17, 'has_superstructure_adobe_mud': 0, 'has_superstructure_mud_mortar_stone': 1, 'has_superstructure_stone_flag': 0, 'has_superstructure_cement_mortar_stone': 0, 'has_superstructure_mud_mortar_brick': 0, 'has_superstructure_cement_mortar_brick': 0, 'has_superstructure_timber': 1, 'has_superstructure_bamboo': 0, 'has_superstructure_rc_non_engineered': 0, 'has_superstructure_rc_engineered': 0, 'has_superstructure_other': 0, 'has_geotechnical_risk_land_settlement': 0, 'has_geotechnical_risk_fault_crack': 0, 'has_geotechnical_risk_liquefaction': 0, 'has_geotechnical_risk_rock_fall': 0, 'has_geotechnical_risk_flood': 0, 'has_geotechnical_risk_other': 0, 'height_plinth_ratio': 0.06060606060606061, 'foundation_type_Bamboo/Timber': False, 'foundation_type_Cement-Stone/Brick': False, 'foundation_type_Mud mortar-Stone/Brick': True, 'foundation_type_Other': False, 'foundation_type_RC': False, 'roof_type_Bamboo/Timber': True, 'roof_type_RCC/RB/RBC': False, 'ground_floor_type_Brick/Stone': True, 'ground_floor_type_Mud': False, 'ground_floor_type_Other': False, 'ground_floor_type_RC': False, 'ground_floor_type_Timber': False, 'other_floor_type_Not applicable': False, 'other_floor_type_RCC/RB/RBC': False, 'other_floor_type_TImber/Bamboo-Mud': True, 'other_floor_type_Timber-Planck': False, 'position_Attached-1 side': False, 'position_Attached-2 side': False, 'position_Attached-3 side': False, 'position_Not attached': True}\n",
      "Status Code: 200\n",
      "Response JSON:\n",
      "{'feature_importance': {'age_building': 0.0293156253718096, 'count_floors_pre_eq': -0.021425405497854735, 'foundation_type_Bamboo/Timber': 0.007514786480116974, 'foundation_type_Cement-Stone/Brick': 0.0007016064320624553, 'foundation_type_Mud mortar-Stone/Brick': 0.0020290774531176313, 'foundation_type_Other': 0.00038294264457281715, 'foundation_type_RC': 0.0020822057375077, 'ground_floor_type_Brick/Stone': -0.05395282486265612, 'ground_floor_type_Mud': -0.01632841710086441, 'ground_floor_type_Other': 9.822559829218803e-06, 'ground_floor_type_RC': 0.002797073412134571, 'ground_floor_type_Timber': 0.00023926448683967813, 'has_geotechnical_risk_fault_crack': -0.010808459342534896, 'has_geotechnical_risk_flood': -0.0003782213448107208, 'has_geotechnical_risk_land_settlement': -0.0029671732719595096, 'has_geotechnical_risk_liquefaction': 0.00014060394751623775, 'has_geotechnical_risk_other': 0.0001005629892298357, 'has_geotechnical_risk_rock_fall': -0.003554914404246525, 'has_superstructure_adobe_mud': -0.0029131435668464443, 'has_superstructure_bamboo': 0.0038454745543249538, 'has_superstructure_cement_mortar_brick': -0.000574259592202096, 'has_superstructure_cement_mortar_stone': -0.0006056432158303374, 'has_superstructure_mud_mortar_brick': -0.002459137694890824, 'has_superstructure_mud_mortar_stone': 0.12602288908619966, 'has_superstructure_other': -0.006239318264562188, 'has_superstructure_rc_engineered': 0.0005948487263679682, 'has_superstructure_rc_non_engineered': 0.0007506737130749755, 'has_superstructure_stone_flag': -0.011140634292016947, 'has_superstructure_timber': -0.10396962779441378, 'height_plinth_ratio': 0.03384130773921172, 'other_floor_type_Not applicable': -0.001346043914720461, 'other_floor_type_RCC/RB/RBC': 0.00010123269340907668, 'other_floor_type_TImber/Bamboo-Mud': -0.010152314488875281, 'other_floor_type_Timber-Planck': -0.004309483210152045, 'position_Attached-1 side': -0.003039862538495367, 'position_Attached-2 side': 0.00019830237992583978, 'position_Attached-3 side': 5.037668695399536e-05, 'position_Not attached': -0.00787024341272548, 'roof_type_Bamboo/Timber': 0.0009756243666683689, 'roof_type_RCC/RB/RBC': 0.0008273741744076789}, 'prediction': 41.7}\n",
      "--------------------------------------------------\n",
      "Sending request for x_2 with payload:\n",
      "{'count_floors_pre_eq': 3, 'age_building': 32, 'has_superstructure_adobe_mud': 0, 'has_superstructure_mud_mortar_stone': 1, 'has_superstructure_stone_flag': 0, 'has_superstructure_cement_mortar_stone': 0, 'has_superstructure_mud_mortar_brick': 0, 'has_superstructure_cement_mortar_brick': 0, 'has_superstructure_timber': 0, 'has_superstructure_bamboo': 0, 'has_superstructure_rc_non_engineered': 0, 'has_superstructure_rc_engineered': 0, 'has_superstructure_other': 0, 'has_geotechnical_risk_land_settlement': 0, 'has_geotechnical_risk_fault_crack': 1, 'has_geotechnical_risk_liquefaction': 0, 'has_geotechnical_risk_rock_fall': 0, 'has_geotechnical_risk_flood': 0, 'has_geotechnical_risk_other': 0, 'height_plinth_ratio': 0.06862745098039216, 'foundation_type_Bamboo/Timber': False, 'foundation_type_Cement-Stone/Brick': False, 'foundation_type_Mud mortar-Stone/Brick': True, 'foundation_type_Other': False, 'foundation_type_RC': False, 'roof_type_Bamboo/Timber': True, 'roof_type_RCC/RB/RBC': False, 'ground_floor_type_Brick/Stone': False, 'ground_floor_type_Mud': True, 'ground_floor_type_Other': False, 'ground_floor_type_RC': False, 'ground_floor_type_Timber': False, 'other_floor_type_Not applicable': False, 'other_floor_type_RCC/RB/RBC': False, 'other_floor_type_TImber/Bamboo-Mud': True, 'other_floor_type_Timber-Planck': False, 'position_Attached-1 side': False, 'position_Attached-2 side': False, 'position_Attached-3 side': False, 'position_Not attached': True}\n",
      "Status Code: 200\n",
      "Response JSON:\n",
      "{'feature_importance': {'age_building': 0.01890147237144496, 'count_floors_pre_eq': 0.1988022213716167, 'foundation_type_Bamboo/Timber': 0.008870552905482684, 'foundation_type_Cement-Stone/Brick': 0.0029852961104279503, 'foundation_type_Mud mortar-Stone/Brick': 0.005435170185354132, 'foundation_type_Other': 4.7584552662255685e-05, 'foundation_type_RC': 0.003254699871364187, 'ground_floor_type_Brick/Stone': -0.00022430786657633066, 'ground_floor_type_Mud': 0.009502365268656747, 'ground_floor_type_Other': 2.6608964096438503e-05, 'ground_floor_type_RC': 0.002361659324994334, 'ground_floor_type_Timber': 7.393291937633905e-05, 'has_geotechnical_risk_fault_crack': 0.1862871062846991, 'has_geotechnical_risk_flood': -0.002658243644604258, 'has_geotechnical_risk_land_settlement': -0.01281380650205228, 'has_geotechnical_risk_liquefaction': 0.002720115524258645, 'has_geotechnical_risk_other': 0.00036663848170541495, 'has_geotechnical_risk_rock_fall': -0.007367769849186518, 'has_superstructure_adobe_mud': -0.001169504523232264, 'has_superstructure_bamboo': 0.0023172234787793076, 'has_superstructure_cement_mortar_brick': 0.0023459935173962758, 'has_superstructure_cement_mortar_stone': 0.00042364194190632056, 'has_superstructure_mud_mortar_brick': -0.0015202079124107906, 'has_superstructure_mud_mortar_stone': 0.09721984727413206, 'has_superstructure_other': 0.000720891375852413, 'has_superstructure_rc_engineered': 0.0007726555027461938, 'has_superstructure_rc_non_engineered': -0.00026952976999296643, 'has_superstructure_stone_flag': -0.0037141539635253645, 'has_superstructure_timber': 0.010830707109460332, 'height_plinth_ratio': 0.01942208292191488, 'other_floor_type_Not applicable': -0.0004443921160753268, 'other_floor_type_RCC/RB/RBC': 0.00033336407535667153, 'other_floor_type_TImber/Bamboo-Mud': 0.011301198883144308, 'other_floor_type_Timber-Planck': 0.0006335514295013068, 'position_Attached-1 side': -0.0017052674201107835, 'position_Attached-2 side': 0.0004251807349549291, 'position_Attached-3 side': 0.0007303658239026084, 'position_Not attached': 0.000396660414234865, 'roof_type_Bamboo/Timber': 0.0016353103440016627, 'roof_type_RCC/RB/RBC': 0.001229632429279905}, 'prediction': 91.1}\n",
      "--------------------------------------------------\n"
     ]
    }
   ],
   "source": [
    "import requests\n",
    "import joblib\n",
    "import numpy as np\n",
    "\n",
    "# Load the bundle with examples and keys\n",
    "bundle = joblib.load('examples.pkl')\n",
    "examples = bundle['examples']\n",
    "keys = list(bundle['keys'])  # converting Index to list if needed\n",
    "\n",
    "# Define the API endpoint URL\n",
    "url = 'http://localhost:5000/api/predict'\n",
    "\n",
    "# Helper function to convert numpy values to native Python types\n",
    "def convert_value(v):\n",
    "    if isinstance(v, np.generic):\n",
    "        return v.item()\n",
    "    return v\n",
    "\n",
    "# Iterate over the example \"x\" samples (assuming keys x_0, x_1, x_2)\n",
    "for sample_key in ['x_0', 'x_1', 'x_2']:\n",
    "    sample = examples[sample_key]\n",
    "    # Map each key to its corresponding value from the sample\n",
    "    payload = {k: convert_value(v) for k, v in zip(keys, sample)}\n",
    "    \n",
    "    print(f\"Sending request for {sample_key} with payload:\")\n",
    "    print(payload)\n",
    "    \n",
    "    response = requests.post(url, json=payload)\n",
    "    \n",
    "    print(f\"Status Code: {response.status_code}\")\n",
    "    print(\"Response JSON:\")\n",
    "    print(response.json())\n",
    "    print(\"-\" * 50)\n"
   ]
  }
 ],
 "metadata": {
  "kernelspec": {
   "display_name": ".venv",
   "language": "python",
   "name": "python3"
  },
  "language_info": {
   "codemirror_mode": {
    "name": "ipython",
    "version": 3
   },
   "file_extension": ".py",
   "mimetype": "text/x-python",
   "name": "python",
   "nbconvert_exporter": "python",
   "pygments_lexer": "ipython3",
   "version": "3.13.1"
  }
 },
 "nbformat": 4,
 "nbformat_minor": 2
}
