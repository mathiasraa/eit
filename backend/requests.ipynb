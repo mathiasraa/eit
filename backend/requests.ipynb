{
 "cells": [
  {
   "cell_type": "code",
   "execution_count": 1,
   "metadata": {},
   "outputs": [],
   "source": [
    "import requests\n",
    "\n",
    "# URL for the API endpoint\n",
    "url = 'http://localhost:5000/api/predict'\n",
    "\n"
   ]
  },
  {
   "cell_type": "code",
   "execution_count": 2,
   "metadata": {},
   "outputs": [],
   "source": [
    "# import this joblib.dump(examples, 'examples.pkl')\n",
    "import joblib\n",
    "bundle = joblib.load('examples.pkl')\n",
    "examples = bundle['examples']\n",
    "keys = bundle['keys']\n"
   ]
  },
  {
   "cell_type": "code",
   "execution_count": 3,
   "metadata": {},
   "outputs": [
    {
     "data": {
      "text/plain": [
       "{'y_1': np.int64(2),\n",
       " 'y_0': np.int64(0),\n",
       " 'y_2': np.int64(2),\n",
       " 'x_1': array([2, 17, 0, 1, 0, 0, 0, 0, 1, 0, 0, 0, 0, 0.0, 0.06060606060606061,\n",
       "        False, False, True, False, False, True, False, True, False, False,\n",
       "        False, False, False, False, True, False, False, False, False, True],\n",
       "       dtype=object),\n",
       " 'x_0': array([2, 3, 0, 0, 0, 0, 0, 0, 0, 0, 1, 0, 0, 0.0, 0.020361990950226245,\n",
       "        False, False, False, False, True, False, True, False, False, False,\n",
       "        True, False, False, True, False, False, True, False, False, False],\n",
       "       dtype=object),\n",
       " 'x_2': array([3, 32, 0, 1, 0, 0, 0, 0, 0, 0, 0, 0, 0, 1.0, 0.06862745098039216,\n",
       "        False, False, True, False, False, True, False, False, True, False,\n",
       "        False, False, False, False, True, False, False, False, False, True],\n",
       "       dtype=object)}"
      ]
     },
     "execution_count": 3,
     "metadata": {},
     "output_type": "execute_result"
    }
   ],
   "source": [
    "examples"
   ]
  },
  {
   "cell_type": "code",
   "execution_count": 4,
   "metadata": {},
   "outputs": [
    {
     "data": {
      "text/plain": [
       "Index(['count_floors_pre_eq', 'age_building', 'has_superstructure_adobe_mud',\n",
       "       'has_superstructure_mud_mortar_stone', 'has_superstructure_stone_flag',\n",
       "       'has_superstructure_cement_mortar_stone',\n",
       "       'has_superstructure_mud_mortar_brick',\n",
       "       'has_superstructure_cement_mortar_brick', 'has_superstructure_timber',\n",
       "       'has_superstructure_bamboo', 'has_superstructure_rc_non_engineered',\n",
       "       'has_superstructure_rc_engineered', 'has_superstructure_other',\n",
       "       'has_geotechnical_risk', 'height_plinth_ratio',\n",
       "       'foundation_type_Bamboo/Timber', 'foundation_type_Cement-Stone/Brick',\n",
       "       'foundation_type_Mud mortar-Stone/Brick', 'foundation_type_Other',\n",
       "       'foundation_type_RC', 'roof_type_Bamboo/Timber', 'roof_type_RCC/RB/RBC',\n",
       "       'ground_floor_type_Brick/Stone', 'ground_floor_type_Mud',\n",
       "       'ground_floor_type_Other', 'ground_floor_type_RC',\n",
       "       'ground_floor_type_Timber', 'other_floor_type_Not applicable',\n",
       "       'other_floor_type_RCC/RB/RBC', 'other_floor_type_TImber/Bamboo-Mud',\n",
       "       'other_floor_type_Timber-Planck', 'position_Attached-1 side',\n",
       "       'position_Attached-2 side', 'position_Attached-3 side',\n",
       "       'position_Not attached'],\n",
       "      dtype='object')"
      ]
     },
     "execution_count": 4,
     "metadata": {},
     "output_type": "execute_result"
    }
   ],
   "source": [
    "keys"
   ]
  },
  {
   "cell_type": "code",
   "execution_count": 9,
   "metadata": {},
   "outputs": [
    {
     "name": "stdout",
     "output_type": "stream",
     "text": [
      "Sending request for x_0 with payload:\n",
      "{'count_floors_pre_eq': 2, 'age_building': 3, 'has_superstructure_adobe_mud': 0, 'has_superstructure_mud_mortar_stone': 0, 'has_superstructure_stone_flag': 0, 'has_superstructure_cement_mortar_stone': 0, 'has_superstructure_mud_mortar_brick': 0, 'has_superstructure_cement_mortar_brick': 0, 'has_superstructure_timber': 0, 'has_superstructure_bamboo': 0, 'has_superstructure_rc_non_engineered': 1, 'has_superstructure_rc_engineered': 0, 'has_superstructure_other': 0, 'has_geotechnical_risk': 0.0, 'height_plinth_ratio': 0.020361990950226245, 'foundation_type_Bamboo/Timber': False, 'foundation_type_Cement-Stone/Brick': False, 'foundation_type_Mud mortar-Stone/Brick': False, 'foundation_type_Other': False, 'foundation_type_RC': True, 'roof_type_Bamboo/Timber': False, 'roof_type_RCC/RB/RBC': True, 'ground_floor_type_Brick/Stone': False, 'ground_floor_type_Mud': False, 'ground_floor_type_Other': False, 'ground_floor_type_RC': True, 'ground_floor_type_Timber': False, 'other_floor_type_Not applicable': False, 'other_floor_type_RCC/RB/RBC': True, 'other_floor_type_TImber/Bamboo-Mud': False, 'other_floor_type_Timber-Planck': False, 'position_Attached-1 side': True, 'position_Attached-2 side': False, 'position_Attached-3 side': False, 'position_Not attached': False}\n",
      "Status Code: 200\n",
      "Response JSON:\n",
      "{'prediction': [[1.0, 0.0, 0.0]]}\n",
      "--------------------------------------------------\n",
      "Sending request for x_1 with payload:\n",
      "{'count_floors_pre_eq': 2, 'age_building': 17, 'has_superstructure_adobe_mud': 0, 'has_superstructure_mud_mortar_stone': 1, 'has_superstructure_stone_flag': 0, 'has_superstructure_cement_mortar_stone': 0, 'has_superstructure_mud_mortar_brick': 0, 'has_superstructure_cement_mortar_brick': 0, 'has_superstructure_timber': 1, 'has_superstructure_bamboo': 0, 'has_superstructure_rc_non_engineered': 0, 'has_superstructure_rc_engineered': 0, 'has_superstructure_other': 0, 'has_geotechnical_risk': 0.0, 'height_plinth_ratio': 0.06060606060606061, 'foundation_type_Bamboo/Timber': False, 'foundation_type_Cement-Stone/Brick': False, 'foundation_type_Mud mortar-Stone/Brick': True, 'foundation_type_Other': False, 'foundation_type_RC': False, 'roof_type_Bamboo/Timber': True, 'roof_type_RCC/RB/RBC': False, 'ground_floor_type_Brick/Stone': True, 'ground_floor_type_Mud': False, 'ground_floor_type_Other': False, 'ground_floor_type_RC': False, 'ground_floor_type_Timber': False, 'other_floor_type_Not applicable': False, 'other_floor_type_RCC/RB/RBC': False, 'other_floor_type_TImber/Bamboo-Mud': True, 'other_floor_type_Timber-Planck': False, 'position_Attached-1 side': False, 'position_Attached-2 side': False, 'position_Attached-3 side': False, 'position_Not attached': True}\n",
      "Status Code: 200\n",
      "Response JSON:\n",
      "{'prediction': [[0.0, 0.53, 0.47]]}\n",
      "--------------------------------------------------\n",
      "Sending request for x_2 with payload:\n",
      "{'count_floors_pre_eq': 3, 'age_building': 32, 'has_superstructure_adobe_mud': 0, 'has_superstructure_mud_mortar_stone': 1, 'has_superstructure_stone_flag': 0, 'has_superstructure_cement_mortar_stone': 0, 'has_superstructure_mud_mortar_brick': 0, 'has_superstructure_cement_mortar_brick': 0, 'has_superstructure_timber': 0, 'has_superstructure_bamboo': 0, 'has_superstructure_rc_non_engineered': 0, 'has_superstructure_rc_engineered': 0, 'has_superstructure_other': 0, 'has_geotechnical_risk': 1.0, 'height_plinth_ratio': 0.06862745098039216, 'foundation_type_Bamboo/Timber': False, 'foundation_type_Cement-Stone/Brick': False, 'foundation_type_Mud mortar-Stone/Brick': True, 'foundation_type_Other': False, 'foundation_type_RC': False, 'roof_type_Bamboo/Timber': True, 'roof_type_RCC/RB/RBC': False, 'ground_floor_type_Brick/Stone': False, 'ground_floor_type_Mud': True, 'ground_floor_type_Other': False, 'ground_floor_type_RC': False, 'ground_floor_type_Timber': False, 'other_floor_type_Not applicable': False, 'other_floor_type_RCC/RB/RBC': False, 'other_floor_type_TImber/Bamboo-Mud': True, 'other_floor_type_Timber-Planck': False, 'position_Attached-1 side': False, 'position_Attached-2 side': False, 'position_Attached-3 side': False, 'position_Not attached': True}\n",
      "Status Code: 200\n",
      "Response JSON:\n",
      "{'prediction': [[0.0, 0.13, 0.87]]}\n",
      "--------------------------------------------------\n"
     ]
    }
   ],
   "source": [
    "import requests\n",
    "import joblib\n",
    "import numpy as np\n",
    "\n",
    "# Load the bundle with examples and keys\n",
    "bundle = joblib.load('examples.pkl')\n",
    "examples = bundle['examples']\n",
    "keys = list(bundle['keys'])  # converting Index to list if needed\n",
    "\n",
    "# Define the API endpoint URL\n",
    "url = 'http://localhost:5000/api/predict'\n",
    "\n",
    "# Helper function to convert numpy values to native Python types\n",
    "def convert_value(v):\n",
    "    if isinstance(v, np.generic):\n",
    "        return v.item()\n",
    "    return v\n",
    "\n",
    "# Iterate over the example \"x\" samples (assuming keys x_0, x_1, x_2)\n",
    "for sample_key in ['x_0', 'x_1', 'x_2']:\n",
    "    sample = examples[sample_key]\n",
    "    # Map each key to its corresponding value from the sample\n",
    "    payload = {k: convert_value(v) for k, v in zip(keys, sample)}\n",
    "    \n",
    "    print(f\"Sending request for {sample_key} with payload:\")\n",
    "    print(payload)\n",
    "    \n",
    "    response = requests.post(url, json=payload)\n",
    "    \n",
    "    print(f\"Status Code: {response.status_code}\")\n",
    "    print(\"Response JSON:\")\n",
    "    print(response.json())\n",
    "    print(\"-\" * 50)\n"
   ]
  }
 ],
 "metadata": {
  "kernelspec": {
   "display_name": ".venv",
   "language": "python",
   "name": "python3"
  },
  "language_info": {
   "codemirror_mode": {
    "name": "ipython",
    "version": 3
   },
   "file_extension": ".py",
   "mimetype": "text/x-python",
   "name": "python",
   "nbconvert_exporter": "python",
   "pygments_lexer": "ipython3",
   "version": "3.13.1"
  }
 },
 "nbformat": 4,
 "nbformat_minor": 2
}
