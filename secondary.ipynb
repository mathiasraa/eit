{
 "cells": [
  {
   "cell_type": "code",
   "execution_count": 288,
   "metadata": {},
   "outputs": [
    {
     "name": "stdout",
     "output_type": "stream",
     "text": [
      "Warning: Looks like you're using an outdated `kagglehub` version (installed: 0.3.6), please consider upgrading to the latest version (0.3.10).\n",
      "Path to dataset files: C:\\Users\\kskdu\\.cache\\kagglehub\\datasets\\arashnic\\earthquake-magnitude-damage-and-impact\\versions\\6\n",
      "['csv_building_damage_assessment.csv', 'csv_building_ownership_and_use.csv', 'csv_building_structure.csv', 'csv_household_demographics.csv', 'csv_household_earthquake_impact.csv', 'csv_household_resources.csv', 'csv_individual_demographics.csv', 'mapping.csv', 'ward_vdcmun_district_name_mapping.csv']\n"
     ]
    }
   ],
   "source": [
    "import pandas as pd\n",
    "import numpy as np\n",
    "import matplotlib.pyplot as plt\n",
    "import seaborn as sns\n",
    "import plotnine as p9\n",
    "import os\n",
    "import numpy as np\n",
    "import lightgbm as lgb\n",
    "from sklearn.model_selection import train_test_split\n",
    "from sklearn.metrics import accuracy_score, classification_report\n",
    "\n",
    "from lib.lib import Import_data\n",
    "\n",
    "path = Import_data()\n",
    "# get all files in the directory\n",
    "files = os.listdir(path)\n",
    "print(files)"
   ]
  },
  {
   "cell_type": "code",
   "execution_count": 289,
   "metadata": {},
   "outputs": [
    {
     "name": "stderr",
     "output_type": "stream",
     "text": [
      "C:\\Users\\kskdu\\AppData\\Local\\Temp\\ipykernel_12964\\4115963309.py:2: DtypeWarning: Columns (5,17,29,34,35,36,37,38,39,40,41,42,43,47,50) have mixed types. Specify dtype option on import or set low_memory=False.\n"
     ]
    },
    {
     "data": {
      "text/plain": [
       "Index(['building_id', 'district_id', 'vdcmun_id', 'ward_id',\n",
       "       'count_floors_pre_eq', 'count_floors_post_eq', 'age_building',\n",
       "       'plinth_area_sq_ft', 'height_ft_pre_eq', 'height_ft_post_eq',\n",
       "       'land_surface_condition', 'foundation_type', 'roof_type',\n",
       "       'ground_floor_type', 'other_floor_type', 'position',\n",
       "       'plan_configuration', 'has_superstructure_adobe_mud',\n",
       "       'has_superstructure_mud_mortar_stone', 'has_superstructure_stone_flag',\n",
       "       'has_superstructure_cement_mortar_stone',\n",
       "       'has_superstructure_mud_mortar_brick',\n",
       "       'has_superstructure_cement_mortar_brick', 'has_superstructure_timber',\n",
       "       'has_superstructure_bamboo', 'has_superstructure_rc_non_engineered',\n",
       "       'has_superstructure_rc_engineered', 'has_superstructure_other',\n",
       "       'condition_post_eq', 'damage_grade', 'technical_solution_proposed'],\n",
       "      dtype='object')"
      ]
     },
     "execution_count": 289,
     "metadata": {},
     "output_type": "execute_result"
    }
   ],
   "source": [
    "building_structure = pd.read_csv(path + \"/csv_building_structure.csv\")\n",
    "dmg_assesment = pd.read_csv(path + \"/csv_building_damage_assessment.csv\")\n",
    "\n",
    "building_structure.keys()"
   ]
  },
  {
   "cell_type": "code",
   "execution_count": 290,
   "metadata": {},
   "outputs": [],
   "source": [
    "# Filter out uneeded rows\n",
    "dmg_assesment = dmg_assesment.drop(columns=[col for col in dmg_assesment.columns if 'has_geotechnical_risk_' not in col and col != 'building_id'])"
   ]
  },
  {
   "cell_type": "code",
   "execution_count": 291,
   "metadata": {},
   "outputs": [
    {
     "data": {
      "text/plain": [
       "Index(['building_id', 'has_geotechnical_risk_land_settlement',\n",
       "       'has_geotechnical_risk_fault_crack',\n",
       "       'has_geotechnical_risk_liquefaction', 'has_geotechnical_risk_landslide',\n",
       "       'has_geotechnical_risk_rock_fall', 'has_geotechnical_risk_flood',\n",
       "       'has_geotechnical_risk_other'],\n",
       "      dtype='object')"
      ]
     },
     "execution_count": 291,
     "metadata": {},
     "output_type": "execute_result"
    }
   ],
   "source": [
    "dmg_assesment.keys()"
   ]
  },
  {
   "cell_type": "code",
   "execution_count": 292,
   "metadata": {},
   "outputs": [
    {
     "data": {
      "text/plain": [
       "Index(['building_id', 'district_id', 'vdcmun_id', 'ward_id',\n",
       "       'count_floors_pre_eq', 'count_floors_post_eq', 'age_building',\n",
       "       'plinth_area_sq_ft', 'height_ft_pre_eq', 'height_ft_post_eq',\n",
       "       'land_surface_condition', 'foundation_type', 'roof_type',\n",
       "       'ground_floor_type', 'other_floor_type', 'position',\n",
       "       'plan_configuration', 'has_superstructure_adobe_mud',\n",
       "       'has_superstructure_mud_mortar_stone', 'has_superstructure_stone_flag',\n",
       "       'has_superstructure_cement_mortar_stone',\n",
       "       'has_superstructure_mud_mortar_brick',\n",
       "       'has_superstructure_cement_mortar_brick', 'has_superstructure_timber',\n",
       "       'has_superstructure_bamboo', 'has_superstructure_rc_non_engineered',\n",
       "       'has_superstructure_rc_engineered', 'has_superstructure_other',\n",
       "       'condition_post_eq', 'damage_grade', 'technical_solution_proposed'],\n",
       "      dtype='object')"
      ]
     },
     "execution_count": 292,
     "metadata": {},
     "output_type": "execute_result"
    }
   ],
   "source": [
    "building_structure.keys()"
   ]
  },
  {
   "cell_type": "code",
   "execution_count": 293,
   "metadata": {},
   "outputs": [
    {
     "data": {
      "text/plain": [
       "Index(['building_id', 'district_id', 'vdcmun_id', 'ward_id',\n",
       "       'count_floors_pre_eq', 'count_floors_post_eq', 'age_building',\n",
       "       'plinth_area_sq_ft', 'height_ft_pre_eq', 'height_ft_post_eq',\n",
       "       'land_surface_condition', 'foundation_type', 'roof_type',\n",
       "       'ground_floor_type', 'other_floor_type', 'position',\n",
       "       'plan_configuration', 'has_superstructure_adobe_mud',\n",
       "       'has_superstructure_mud_mortar_stone', 'has_superstructure_stone_flag',\n",
       "       'has_superstructure_cement_mortar_stone',\n",
       "       'has_superstructure_mud_mortar_brick',\n",
       "       'has_superstructure_cement_mortar_brick', 'has_superstructure_timber',\n",
       "       'has_superstructure_bamboo', 'has_superstructure_rc_non_engineered',\n",
       "       'has_superstructure_rc_engineered', 'has_superstructure_other',\n",
       "       'condition_post_eq', 'damage_grade', 'technical_solution_proposed',\n",
       "       'has_geotechnical_risk_land_settlement',\n",
       "       'has_geotechnical_risk_fault_crack',\n",
       "       'has_geotechnical_risk_liquefaction', 'has_geotechnical_risk_landslide',\n",
       "       'has_geotechnical_risk_rock_fall', 'has_geotechnical_risk_flood',\n",
       "       'has_geotechnical_risk_other'],\n",
       "      dtype='object')"
      ]
     },
     "execution_count": 293,
     "metadata": {},
     "output_type": "execute_result"
    }
   ],
   "source": [
    "# Merge dmg assesment into building structure on building id column\n",
    "building_structure = building_structure.merge(dmg_assesment, on='building_id')\n",
    "building_structure.keys()"
   ]
  },
  {
   "cell_type": "code",
   "execution_count": 294,
   "metadata": {},
   "outputs": [
    {
     "data": {
      "text/plain": [
       "762106"
      ]
     },
     "execution_count": 294,
     "metadata": {},
     "output_type": "execute_result"
    }
   ],
   "source": [
    "len(building_structure)"
   ]
  },
  {
   "cell_type": "code",
   "execution_count": 295,
   "metadata": {},
   "outputs": [],
   "source": [
    "# Remove id columns, columns containing post_eq and technical_solution_proposed and position\n",
    "building_structure = building_structure.drop(columns=[col for col in building_structure.columns if 'id' in col or 'post_eq' in col or 'technical_solution_proposed' in col or 'position' in col])"
   ]
  },
  {
   "cell_type": "code",
   "execution_count": 296,
   "metadata": {},
   "outputs": [
    {
     "data": {
      "text/plain": [
       "762106"
      ]
     },
     "execution_count": 296,
     "metadata": {},
     "output_type": "execute_result"
    }
   ],
   "source": [
    "len(building_structure)"
   ]
  },
  {
   "cell_type": "code",
   "execution_count": 297,
   "metadata": {},
   "outputs": [],
   "source": [
    "# Dropping floors above 6\n",
    "building_structure = building_structure[building_structure[\"count_floors_pre_eq\"] < 6]"
   ]
  },
  {
   "cell_type": "code",
   "execution_count": 298,
   "metadata": {},
   "outputs": [
    {
     "data": {
      "text/plain": [
       "761661"
      ]
     },
     "execution_count": 298,
     "metadata": {},
     "output_type": "execute_result"
    }
   ],
   "source": [
    "len(building_structure)"
   ]
  },
  {
   "cell_type": "code",
   "execution_count": 299,
   "metadata": {},
   "outputs": [],
   "source": [
    "# Dropping rows with plinith area above 1500\n",
    "building_structure = building_structure[building_structure[\"plinth_area_sq_ft\"] <= 1500]"
   ]
  },
  {
   "cell_type": "code",
   "execution_count": 300,
   "metadata": {},
   "outputs": [],
   "source": [
    "# One hot encode the relevant columns\n",
    "building_structure_onehot = pd.get_dummies(building_structure, columns=[\"foundation_type\", \"plan_configuration\", 'land_surface_condition', 'roof_type', 'ground_floor_type', 'other_floor_type'] )"
   ]
  },
  {
   "cell_type": "code",
   "execution_count": 301,
   "metadata": {},
   "outputs": [
    {
     "name": "stderr",
     "output_type": "stream",
     "text": [
      "C:\\Users\\kskdu\\AppData\\Local\\Temp\\ipykernel_12964\\555852273.py:2: FutureWarning: Downcasting behavior in `replace` is deprecated and will be removed in a future version. To retain the old behavior, explicitly call `result.infer_objects(copy=False)`. To opt-in to the future behavior, set `pd.set_option('future.no_silent_downcasting', True)`\n"
     ]
    }
   ],
   "source": [
    "# Changing damage categories into numerical values\n",
    "building_structure[\"damage_grade\"] = building_structure[\"damage_grade\"].replace({\"Grade 1\": 0, \"Grade 2\": 1, \"Grade 3\": 2, \"Grade 4\": 3, \"Grade 5\": 4})"
   ]
  },
  {
   "cell_type": "code",
   "execution_count": 302,
   "metadata": {},
   "outputs": [
    {
     "data": {
      "text/plain": [
       "Index(['count_floors_pre_eq', 'age_building', 'plinth_area_sq_ft',\n",
       "       'height_ft_pre_eq', 'land_surface_condition', 'foundation_type',\n",
       "       'roof_type', 'ground_floor_type', 'other_floor_type',\n",
       "       'plan_configuration', 'has_superstructure_adobe_mud',\n",
       "       'has_superstructure_mud_mortar_stone', 'has_superstructure_stone_flag',\n",
       "       'has_superstructure_cement_mortar_stone',\n",
       "       'has_superstructure_mud_mortar_brick',\n",
       "       'has_superstructure_cement_mortar_brick', 'has_superstructure_timber',\n",
       "       'has_superstructure_bamboo', 'has_superstructure_rc_non_engineered',\n",
       "       'has_superstructure_rc_engineered', 'has_superstructure_other',\n",
       "       'damage_grade', 'has_geotechnical_risk_land_settlement',\n",
       "       'has_geotechnical_risk_fault_crack',\n",
       "       'has_geotechnical_risk_liquefaction', 'has_geotechnical_risk_rock_fall',\n",
       "       'has_geotechnical_risk_flood', 'has_geotechnical_risk_other'],\n",
       "      dtype='object')"
      ]
     },
     "execution_count": 302,
     "metadata": {},
     "output_type": "execute_result"
    }
   ],
   "source": [
    "building_structure.keys()"
   ]
  },
  {
   "cell_type": "code",
   "execution_count": 303,
   "metadata": {},
   "outputs": [],
   "source": [
    "# Translating category columns to category type for native category support\n",
    "categorical_columns = [\n",
    "    \"land_surface_condition\", \n",
    "    \"foundation_type\", \n",
    "    \"roof_type\", \n",
    "    \"ground_floor_type\",\n",
    "    \"other_floor_type\",\n",
    "    \"plan_configuration\",\n",
    "]\n",
    "\n",
    "for col in categorical_columns:\n",
    "    building_structure[col] = building_structure[col].astype('category')"
   ]
  },
  {
   "cell_type": "code",
   "execution_count": 304,
   "metadata": {},
   "outputs": [
    {
     "name": "stdout",
     "output_type": "stream",
     "text": [
      "count_floors_pre_eq                        0\n",
      "age_building                               0\n",
      "plinth_area_sq_ft                          0\n",
      "height_ft_pre_eq                           0\n",
      "land_surface_condition                     0\n",
      "foundation_type                            0\n",
      "roof_type                                  0\n",
      "ground_floor_type                          0\n",
      "other_floor_type                           0\n",
      "plan_configuration                         1\n",
      "has_superstructure_adobe_mud               0\n",
      "has_superstructure_mud_mortar_stone        0\n",
      "has_superstructure_stone_flag              0\n",
      "has_superstructure_cement_mortar_stone     0\n",
      "has_superstructure_mud_mortar_brick        0\n",
      "has_superstructure_cement_mortar_brick     0\n",
      "has_superstructure_timber                  0\n",
      "has_superstructure_bamboo                  0\n",
      "has_superstructure_rc_non_engineered       0\n",
      "has_superstructure_rc_engineered           0\n",
      "has_superstructure_other                   0\n",
      "damage_grade                              12\n",
      "has_geotechnical_risk_land_settlement      0\n",
      "has_geotechnical_risk_fault_crack          0\n",
      "has_geotechnical_risk_liquefaction         0\n",
      "has_geotechnical_risk_rock_fall            0\n",
      "has_geotechnical_risk_flood                0\n",
      "has_geotechnical_risk_other                0\n",
      "dtype: int64\n"
     ]
    }
   ],
   "source": [
    "print(building_structure.isna().sum())\n",
    "building_structure = building_structure.dropna()"
   ]
  },
  {
   "cell_type": "code",
   "execution_count": 305,
   "metadata": {},
   "outputs": [],
   "source": [
    "def train(X, y, params, rounds):\n",
    "    # Split the data into training, validation, and test sets\n",
    "    X_train, X_temp, y_train, y_temp = train_test_split(X, y, test_size=0.3, random_state=42)\n",
    "    X_val, X_test, y_val, y_test = train_test_split(X_temp, y_temp, test_size=0.5, random_state=42)\n",
    "\n",
    "    # Create the LightGBM datasets\n",
    "    train_data = lgb.Dataset(X_train, label=y_train)\n",
    "    val_data = lgb.Dataset(X_val, label=y_val, reference=train_data)\n",
    "\n",
    "    # Train the model\n",
    "    model = lgb.train(\n",
    "        params,\n",
    "        train_data,\n",
    "        num_boost_round=rounds,\n",
    "        valid_sets=[train_data, val_data],\n",
    "    )\n",
    "\n",
    "    return model, X_test, y_test"
   ]
  },
  {
   "cell_type": "code",
   "execution_count": 306,
   "metadata": {},
   "outputs": [],
   "source": [
    "def test(model, X_test, y_test):\n",
    "    y_pred = model.predict(X_test)\n",
    "    y_pred_class = np.argmax(y_pred, axis=1)  # Convert probabilities to class labels\n",
    "\n",
    "    # Evaluate the model\n",
    "    accuracy = accuracy_score(y_test, y_pred_class)\n",
    "    report = classification_report(y_test, y_pred_class)\n",
    "\n",
    "    print(f\"Accuracy: {accuracy:.4f}\")\n",
    "    print(\"Classification Report:\")\n",
    "    print(report)\n",
    "\n",
    "    # Feature importance\n",
    "    importance = model.feature_importance(importance_type='split')\n",
    "    feature_names = X.columns.tolist()\n",
    "    feature_importance = sorted(zip(feature_names, importance), key=lambda x: x[1], reverse=True)\n",
    "\n",
    "    print(\"Feature Importance (top 10):\")\n",
    "    for feature, importance in feature_importance[:10]:\n",
    "        print(f\"{feature}: {importance}\")"
   ]
  },
  {
   "cell_type": "code",
   "execution_count": null,
   "metadata": {},
   "outputs": [],
   "source": [
    "X = building_structure.drop(columns=[\"damage_grade\", \"plan_configuration\"])\n",
    "y = building_structure[\"damage_grade\"].astype(\"Int64\")"
   ]
  },
  {
   "cell_type": "code",
   "execution_count": 308,
   "metadata": {},
   "outputs": [],
   "source": [
    "# Version 1: Convert 0, 1, 2 to 0 and 3, 4 to 1\n",
    "y_binary = y.copy()\n",
    "y_binary = y_binary.apply(lambda x: 0 if x <= 2 else 1)\n",
    "\n",
    "# Version 2: Convert 0 to -1, 1-3 to 0, and 4 to 1\n",
    "y_three_class = y.copy()\n",
    "y_three_class = y_three_class.apply(lambda x: -1 if x == 0 else (1 if x == 4 else 0))"
   ]
  },
  {
   "cell_type": "code",
   "execution_count": 309,
   "metadata": {},
   "outputs": [
    {
     "name": "stdout",
     "output_type": "stream",
     "text": [
      "Accuracy: 0.4750\n",
      "Classification Report:\n",
      "              precision    recall  f1-score   support\n",
      "\n",
      "         0.0       0.55      0.65      0.60     11642\n",
      "         1.0       0.38      0.12      0.18     12860\n",
      "         2.0       0.37      0.14      0.21     20396\n",
      "         3.0       0.40      0.22      0.29     27486\n",
      "         4.0       0.49      0.87      0.63     41353\n",
      "\n",
      "    accuracy                           0.48    113737\n",
      "   macro avg       0.44      0.40      0.38    113737\n",
      "weighted avg       0.44      0.48      0.42    113737\n",
      "\n",
      "Feature Importance (top 10):\n",
      "plinth_area_sq_ft: 35405\n",
      "height_ft_pre_eq: 24585\n",
      "age_building: 24526\n",
      "land_surface_condition: 6444\n",
      "roof_type: 6281\n",
      "count_floors_pre_eq: 5823\n",
      "has_superstructure_timber: 4895\n",
      "has_superstructure_mud_mortar_stone: 3916\n",
      "ground_floor_type: 3693\n",
      "other_floor_type: 3621\n"
     ]
    }
   ],
   "source": [
    "params = {\n",
    "    'objective': 'multiclass',\n",
    "    'num_class': len(np.unique(y)),  # Number of damage grade classes\n",
    "    'metric': 'multi_logloss',\n",
    "    'learning_rate': 0.05,\n",
    "    'max_depth': -1,        # -1 means no limit\n",
    "    'num_leaves': 31,       # Maximum tree leaves for base learners\n",
    "    'feature_fraction': 0.8, # Randomly select a subset of features on each iteration\n",
    "    'bagging_fraction': 0.8, # Randomly select a subset of data without resampling\n",
    "    'bagging_freq': 5,       # Perform bagging every 5 iterations\n",
    "    'verbose': -1,          # Suppress printing messages\n",
    "    'boosting_type': 'gbdt'  # Traditional Gradient Boosting Decision Tree\n",
    "}\n",
    "\n",
    "rounds=1000\n",
    "\n",
    "model, X_test, y_test = train(X, y, params, rounds)\n",
    "test(model, X_test, y_test)"
   ]
  },
  {
   "cell_type": "code",
   "execution_count": null,
   "metadata": {},
   "outputs": [
    {
     "name": "stdout",
     "output_type": "stream",
     "text": [
      "Accuracy: 0.7494\n",
      "Classification Report:\n",
      "              precision    recall  f1-score   support\n",
      "\n",
      "           0       0.80      0.49      0.61     44898\n",
      "           1       0.73      0.92      0.82     68839\n",
      "\n",
      "    accuracy                           0.75    113737\n",
      "   macro avg       0.77      0.70      0.71    113737\n",
      "weighted avg       0.76      0.75      0.73    113737\n",
      "\n",
      "Feature Importance (top 10):\n",
      "plinth_area_sq_ft: 12761\n",
      "height_ft_pre_eq: 9655\n",
      "age_building: 8307\n",
      "land_surface_condition: 2746\n",
      "roof_type: 2556\n",
      "count_floors_pre_eq: 2479\n",
      "has_superstructure_timber: 2174\n",
      "other_floor_type: 1947\n",
      "ground_floor_type: 1939\n",
      "has_superstructure_mud_mortar_stone: 1805\n"
     ]
    }
   ],
   "source": [
    "params = {\n",
    "    'objective': 'multiclass',\n",
    "    'num_class': len(np.unique(y_binary)),  # Number of damage grade classes\n",
    "    'metric': 'multi_logloss',\n",
    "    'learning_rate': 0.05,\n",
    "    'max_depth': -1,        # -1 means no limit\n",
    "    'num_leaves': 31,       # Maximum tree leaves for base learners\n",
    "    'feature_fraction': 0.8, # Randomly select a subset of features on each iteration\n",
    "    'bagging_fraction': 0.8, # Randomly select a subset of data without resampling\n",
    "    'bagging_freq': 5,       # Perform bagging every 5 iterations\n",
    "    'verbose': -1,          # Suppress printing messages\n",
    "    'boosting_type': 'gbdt'  # Traditional Gradient Boosting Decision Tree\n",
    "}\n",
    "\n",
    "rounds=1000\n",
    "\n",
    "#model, X_test, y_test = train(X, y_binary, params, rounds)\n",
    "#test(model, X_test, y_test)"
   ]
  },
  {
   "cell_type": "code",
   "execution_count": null,
   "metadata": {},
   "outputs": [
    {
     "ename": "LightGBMError",
     "evalue": "Label must be in [0, 3), but found -1 in label",
     "output_type": "error",
     "traceback": [
      "\u001b[1;31m---------------------------------------------------------------------------\u001b[0m",
      "\u001b[1;31mLightGBMError\u001b[0m                             Traceback (most recent call last)",
      "Cell \u001b[1;32mIn[311], line 17\u001b[0m\n\u001b[0;32m      1\u001b[0m params \u001b[38;5;241m=\u001b[39m {\n\u001b[0;32m      2\u001b[0m     \u001b[38;5;124m'\u001b[39m\u001b[38;5;124mobjective\u001b[39m\u001b[38;5;124m'\u001b[39m: \u001b[38;5;124m'\u001b[39m\u001b[38;5;124mmulticlass\u001b[39m\u001b[38;5;124m'\u001b[39m,\n\u001b[0;32m      3\u001b[0m     \u001b[38;5;124m'\u001b[39m\u001b[38;5;124mnum_class\u001b[39m\u001b[38;5;124m'\u001b[39m: \u001b[38;5;28mlen\u001b[39m(np\u001b[38;5;241m.\u001b[39munique(y_three_class)),  \u001b[38;5;66;03m# Number of damage grade classes\u001b[39;00m\n\u001b[1;32m   (...)\u001b[0m\n\u001b[0;32m     12\u001b[0m     \u001b[38;5;124m'\u001b[39m\u001b[38;5;124mboosting_type\u001b[39m\u001b[38;5;124m'\u001b[39m: \u001b[38;5;124m'\u001b[39m\u001b[38;5;124mgbdt\u001b[39m\u001b[38;5;124m'\u001b[39m  \u001b[38;5;66;03m# Traditional Gradient Boosting Decision Tree\u001b[39;00m\n\u001b[0;32m     13\u001b[0m }\n\u001b[0;32m     15\u001b[0m rounds\u001b[38;5;241m=\u001b[39m\u001b[38;5;241m1000\u001b[39m\n\u001b[1;32m---> 17\u001b[0m model, X_test, y_test \u001b[38;5;241m=\u001b[39m \u001b[43mtrain\u001b[49m\u001b[43m(\u001b[49m\u001b[43mX\u001b[49m\u001b[43m,\u001b[49m\u001b[43m \u001b[49m\u001b[43my_three_class\u001b[49m\u001b[43m,\u001b[49m\u001b[43m \u001b[49m\u001b[43mparams\u001b[49m\u001b[43m,\u001b[49m\u001b[43m \u001b[49m\u001b[43mrounds\u001b[49m\u001b[43m)\u001b[49m\n\u001b[0;32m     18\u001b[0m test(model, X_test, y_test)\n",
      "Cell \u001b[1;32mIn[305], line 11\u001b[0m, in \u001b[0;36mtrain\u001b[1;34m(X, y, params, rounds)\u001b[0m\n\u001b[0;32m      8\u001b[0m val_data \u001b[38;5;241m=\u001b[39m lgb\u001b[38;5;241m.\u001b[39mDataset(X_val, label\u001b[38;5;241m=\u001b[39my_val, reference\u001b[38;5;241m=\u001b[39mtrain_data)\n\u001b[0;32m     10\u001b[0m \u001b[38;5;66;03m# Train the model\u001b[39;00m\n\u001b[1;32m---> 11\u001b[0m model \u001b[38;5;241m=\u001b[39m \u001b[43mlgb\u001b[49m\u001b[38;5;241;43m.\u001b[39;49m\u001b[43mtrain\u001b[49m\u001b[43m(\u001b[49m\n\u001b[0;32m     12\u001b[0m \u001b[43m    \u001b[49m\u001b[43mparams\u001b[49m\u001b[43m,\u001b[49m\n\u001b[0;32m     13\u001b[0m \u001b[43m    \u001b[49m\u001b[43mtrain_data\u001b[49m\u001b[43m,\u001b[49m\n\u001b[0;32m     14\u001b[0m \u001b[43m    \u001b[49m\u001b[43mnum_boost_round\u001b[49m\u001b[38;5;241;43m=\u001b[39;49m\u001b[43mrounds\u001b[49m\u001b[43m,\u001b[49m\n\u001b[0;32m     15\u001b[0m \u001b[43m    \u001b[49m\u001b[43mvalid_sets\u001b[49m\u001b[38;5;241;43m=\u001b[39;49m\u001b[43m[\u001b[49m\u001b[43mtrain_data\u001b[49m\u001b[43m,\u001b[49m\u001b[43m \u001b[49m\u001b[43mval_data\u001b[49m\u001b[43m]\u001b[49m\u001b[43m,\u001b[49m\n\u001b[0;32m     16\u001b[0m \u001b[43m\u001b[49m\u001b[43m)\u001b[49m\n\u001b[0;32m     18\u001b[0m \u001b[38;5;28;01mreturn\u001b[39;00m model, X_test, y_test\n",
      "File \u001b[1;32mc:\\Users\\kskdu\\Desktop\\ntnu\\eit\\eit\\.venv\\Lib\\site-packages\\lightgbm\\engine.py:297\u001b[0m, in \u001b[0;36mtrain\u001b[1;34m(params, train_set, num_boost_round, valid_sets, valid_names, feval, init_model, keep_training_booster, callbacks)\u001b[0m\n\u001b[0;32m    295\u001b[0m \u001b[38;5;66;03m# construct booster\u001b[39;00m\n\u001b[0;32m    296\u001b[0m \u001b[38;5;28;01mtry\u001b[39;00m:\n\u001b[1;32m--> 297\u001b[0m     booster \u001b[38;5;241m=\u001b[39m \u001b[43mBooster\u001b[49m\u001b[43m(\u001b[49m\u001b[43mparams\u001b[49m\u001b[38;5;241;43m=\u001b[39;49m\u001b[43mparams\u001b[49m\u001b[43m,\u001b[49m\u001b[43m \u001b[49m\u001b[43mtrain_set\u001b[49m\u001b[38;5;241;43m=\u001b[39;49m\u001b[43mtrain_set\u001b[49m\u001b[43m)\u001b[49m\n\u001b[0;32m    298\u001b[0m     \u001b[38;5;28;01mif\u001b[39;00m is_valid_contain_train:\n\u001b[0;32m    299\u001b[0m         booster\u001b[38;5;241m.\u001b[39mset_train_data_name(train_data_name)\n",
      "File \u001b[1;32mc:\\Users\\kskdu\\Desktop\\ntnu\\eit\\eit\\.venv\\Lib\\site-packages\\lightgbm\\basic.py:3660\u001b[0m, in \u001b[0;36mBooster.__init__\u001b[1;34m(self, params, train_set, model_file, model_str)\u001b[0m\n\u001b[0;32m   3658\u001b[0m params\u001b[38;5;241m.\u001b[39mupdate(train_set\u001b[38;5;241m.\u001b[39mget_params())\n\u001b[0;32m   3659\u001b[0m params_str \u001b[38;5;241m=\u001b[39m _param_dict_to_str(params)\n\u001b[1;32m-> 3660\u001b[0m \u001b[43m_safe_call\u001b[49m\u001b[43m(\u001b[49m\n\u001b[0;32m   3661\u001b[0m \u001b[43m    \u001b[49m\u001b[43m_LIB\u001b[49m\u001b[38;5;241;43m.\u001b[39;49m\u001b[43mLGBM_BoosterCreate\u001b[49m\u001b[43m(\u001b[49m\n\u001b[0;32m   3662\u001b[0m \u001b[43m        \u001b[49m\u001b[43mtrain_set\u001b[49m\u001b[38;5;241;43m.\u001b[39;49m\u001b[43m_handle\u001b[49m\u001b[43m,\u001b[49m\n\u001b[0;32m   3663\u001b[0m \u001b[43m        \u001b[49m\u001b[43m_c_str\u001b[49m\u001b[43m(\u001b[49m\u001b[43mparams_str\u001b[49m\u001b[43m)\u001b[49m\u001b[43m,\u001b[49m\n\u001b[0;32m   3664\u001b[0m \u001b[43m        \u001b[49m\u001b[43mctypes\u001b[49m\u001b[38;5;241;43m.\u001b[39;49m\u001b[43mbyref\u001b[49m\u001b[43m(\u001b[49m\u001b[38;5;28;43mself\u001b[39;49m\u001b[38;5;241;43m.\u001b[39;49m\u001b[43m_handle\u001b[49m\u001b[43m)\u001b[49m\u001b[43m,\u001b[49m\n\u001b[0;32m   3665\u001b[0m \u001b[43m    \u001b[49m\u001b[43m)\u001b[49m\n\u001b[0;32m   3666\u001b[0m \u001b[43m\u001b[49m\u001b[43m)\u001b[49m\n\u001b[0;32m   3667\u001b[0m \u001b[38;5;66;03m# save reference to data\u001b[39;00m\n\u001b[0;32m   3668\u001b[0m \u001b[38;5;28mself\u001b[39m\u001b[38;5;241m.\u001b[39mtrain_set \u001b[38;5;241m=\u001b[39m train_set\n",
      "File \u001b[1;32mc:\\Users\\kskdu\\Desktop\\ntnu\\eit\\eit\\.venv\\Lib\\site-packages\\lightgbm\\basic.py:313\u001b[0m, in \u001b[0;36m_safe_call\u001b[1;34m(ret)\u001b[0m\n\u001b[0;32m    305\u001b[0m \u001b[38;5;250m\u001b[39m\u001b[38;5;124;03m\"\"\"Check the return value from C API call.\u001b[39;00m\n\u001b[0;32m    306\u001b[0m \n\u001b[0;32m    307\u001b[0m \u001b[38;5;124;03mParameters\u001b[39;00m\n\u001b[1;32m   (...)\u001b[0m\n\u001b[0;32m    310\u001b[0m \u001b[38;5;124;03m    The return value from C API calls.\u001b[39;00m\n\u001b[0;32m    311\u001b[0m \u001b[38;5;124;03m\"\"\"\u001b[39;00m\n\u001b[0;32m    312\u001b[0m \u001b[38;5;28;01mif\u001b[39;00m ret \u001b[38;5;241m!=\u001b[39m \u001b[38;5;241m0\u001b[39m:\n\u001b[1;32m--> 313\u001b[0m     \u001b[38;5;28;01mraise\u001b[39;00m LightGBMError(_LIB\u001b[38;5;241m.\u001b[39mLGBM_GetLastError()\u001b[38;5;241m.\u001b[39mdecode(\u001b[38;5;124m\"\u001b[39m\u001b[38;5;124mutf-8\u001b[39m\u001b[38;5;124m\"\u001b[39m))\n",
      "\u001b[1;31mLightGBMError\u001b[0m: Label must be in [0, 3), but found -1 in label"
     ]
    }
   ],
   "source": [
    "params = {\n",
    "    'objective': 'multiclass',\n",
    "    'num_class': len(np.unique(y_three_class)),  # Number of damage grade classes\n",
    "    'metric': 'multi_logloss',\n",
    "    'learning_rate': 0.05,\n",
    "    'max_depth': -1,        # -1 means no limit\n",
    "    'num_leaves': 31,       # Maximum tree leaves for base learners\n",
    "    'feature_fraction': 0.8, # Randomly select a subset of features on each iteration\n",
    "    'bagging_fraction': 0.8, # Randomly select a subset of data without resampling\n",
    "    'bagging_freq': 5,       # Perform bagging every 5 iterations\n",
    "    'verbose': -1,          # Suppress printing messages\n",
    "    'boosting_type': 'gbdt'  # Traditional Gradient Boosting Decision Tree\n",
    "}\n",
    "\n",
    "rounds=1000\n",
    "\n",
    "# model, X_test, y_test = train(X, y_three_class, params, rounds)\n",
    "# test(model, X_test, y_test)"
   ]
  },
  {
   "cell_type": "code",
   "execution_count": null,
   "metadata": {},
   "outputs": [],
   "source": []
  }
 ],
 "metadata": {
  "kernelspec": {
   "display_name": ".venv",
   "language": "python",
   "name": "python3"
  },
  "language_info": {
   "codemirror_mode": {
    "name": "ipython",
    "version": 3
   },
   "file_extension": ".py",
   "mimetype": "text/x-python",
   "name": "python",
   "nbconvert_exporter": "python",
   "pygments_lexer": "ipython3",
   "version": "3.13.1"
  }
 },
 "nbformat": 4,
 "nbformat_minor": 2
}
